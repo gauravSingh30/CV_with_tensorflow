{
 "cells": [
  {
   "cell_type": "code",
   "execution_count": 2,
   "metadata": {},
   "outputs": [],
   "source": [
    "import tensorflow as tf\n",
    "import matplotlib.pyplot as plt\n",
    "import pandas as pd\n",
    "import numpy as np\n",
    "from numpy import genfromtxt\n",
    "from tensorflow import keras"
   ]
  },
  {
   "cell_type": "code",
   "execution_count": 4,
   "metadata": {},
   "outputs": [],
   "source": [
    "raw_train = genfromtxt('./digits_train.csv', delimiter=',')\n",
    "raw_test = genfromtxt('./digits_test.csv', delimiter=',')"
   ]
  },
  {
   "cell_type": "code",
   "execution_count": 9,
   "metadata": {},
   "outputs": [],
   "source": [
    "raw_train = raw_train[1:]"
   ]
  },
  {
   "cell_type": "code",
   "execution_count": 20,
   "metadata": {},
   "outputs": [],
   "source": [
    "np.random.shuffle(raw_train)"
   ]
  },
  {
   "cell_type": "code",
   "execution_count": 22,
   "metadata": {},
   "outputs": [],
   "source": [
    "X_train = raw_train[0:29400]\n",
    "X_test = raw_train[29401:]"
   ]
  },
  {
   "cell_type": "code",
   "execution_count": 31,
   "metadata": {},
   "outputs": [],
   "source": [
    "y_train = X_train[:,0]\n",
    "y_test = X_test[:,0]\n",
    "X_train = X_train[:,1:]\n",
    "X_test = X_test[:,1:]"
   ]
  },
  {
   "cell_type": "code",
   "execution_count": 39,
   "metadata": {},
   "outputs": [],
   "source": [
    "train_images = []\n",
    "test_images = []\n",
    "for i in range(len(X_train)):\n",
    "    train_images.append(X_train[i].reshape((28,28)))\n",
    "    \n",
    "for i in range(len(X_test)):\n",
    "    test_images.append(X_test[i].reshape((28,28)))"
   ]
  },
  {
   "cell_type": "code",
   "execution_count": 56,
   "metadata": {},
   "outputs": [],
   "source": [
    "X_train = X_train/255.0\n",
    "X_test = X_test/255.0"
   ]
  },
  {
   "cell_type": "code",
   "execution_count": 57,
   "metadata": {},
   "outputs": [],
   "source": [
    "class myCallback(tf.keras.callbacks.Callback):\n",
    "    def on_epoch_end(self, epoch, logs={}):\n",
    "        if(logs.get('acc')>=0.99):\n",
    "            print(\"\\nReached {}% accuracy so cancelling training!\\n\".format(logs.get('acc')*100))\n",
    "            self.model.stop_training = True"
   ]
  },
  {
   "cell_type": "code",
   "execution_count": 62,
   "metadata": {},
   "outputs": [
    {
     "name": "stdout",
     "output_type": "stream",
     "text": [
      "Epoch 1/10\n",
      "29400/29400 [==============================] - 6s 212us/sample - loss: 0.2720 - acc: 0.9172\n",
      "Epoch 2/10\n",
      "29400/29400 [==============================] - 6s 217us/sample - loss: 0.1545 - acc: 0.9529\n",
      "Epoch 3/10\n",
      "29400/29400 [==============================] - 7s 227us/sample - loss: 0.1241 - acc: 0.9631\n",
      "Epoch 4/10\n",
      "29400/29400 [==============================] - 6s 213us/sample - loss: 0.1115 - acc: 0.9672\n",
      "Epoch 5/10\n",
      "29400/29400 [==============================] - 6s 208us/sample - loss: 0.1010 - acc: 0.9710\n",
      "Epoch 6/10\n",
      "29400/29400 [==============================] - 7s 221us/sample - loss: 0.0922 - acc: 0.9738\n",
      "Epoch 7/10\n",
      "29400/29400 [==============================] - 6s 200us/sample - loss: 0.0840 - acc: 0.9749\n",
      "Epoch 8/10\n",
      "29400/29400 [==============================] - 6s 202us/sample - loss: 0.0832 - acc: 0.9769\n",
      "Epoch 9/10\n",
      "29400/29400 [==============================] - 6s 201us/sample - loss: 0.0792 - acc: 0.9790\n",
      "Epoch 10/10\n",
      "29400/29400 [==============================] - 6s 211us/sample - loss: 0.0693 - acc: 0.9808\n"
     ]
    },
    {
     "data": {
      "text/plain": [
       "<tensorflow.python.keras.callbacks.History at 0x138e5ad68>"
      ]
     },
     "execution_count": 62,
     "metadata": {},
     "output_type": "execute_result"
    }
   ],
   "source": [
    "callback = myCallback()\n",
    "model = keras.models.Sequential()\n",
    "model.add(keras.layers.Dense(784))\n",
    "model.add(keras.layers.Dense(1024, activation=tf.nn.relu))\n",
    "model.add(keras.layers.Dense(10, activation=tf.nn.softmax))\n",
    "model.compile(optimizer=tf.train.AdamOptimizer(), loss='sparse_categorical_crossentropy', metrics=['accuracy'])\n",
    "model.fit(X_train, y_train, epochs=10, callbacks=[callback])"
   ]
  },
  {
   "cell_type": "code",
   "execution_count": 63,
   "metadata": {},
   "outputs": [
    {
     "name": "stdout",
     "output_type": "stream",
     "text": [
      "12599/12599 [==============================] - 1s 81us/sample - loss: 0.2214 - acc: 0.9649\n"
     ]
    },
    {
     "data": {
      "text/plain": [
       "[0.2213929116948225, 0.96491784]"
      ]
     },
     "execution_count": 63,
     "metadata": {},
     "output_type": "execute_result"
    }
   ],
   "source": [
    "model.evaluate(X_test, y_test)"
   ]
  },
  {
   "cell_type": "code",
   "execution_count": 55,
   "metadata": {},
   "outputs": [
    {
     "name": "stdout",
     "output_type": "stream",
     "text": [
      "9.0\n"
     ]
    },
    {
     "data": {
      "image/png": "[encoded data removed]",
      "text/plain": [
       "<Figure size 432x288 with 1 Axes>"
      ]
     },
     "metadata": {
      "needs_background": "light"
     },
     "output_type": "display_data"
    }
   ],
   "source": [
    "plt.imshow(train_images[13000])\n",
    "print(y_train[13000])"
   ]
  },
  {
   "cell_type": "code",
   "execution_count": null,
   "metadata": {},
   "outputs": [],
   "source": []
  }
 ],
 "metadata": {
  "kernelspec": {
   "display_name": "Python 3",
   "language": "python",
   "name": "python3"
  },
  "language_info": {
   "codemirror_mode": {
    "name": "ipython",
    "version": 3
   },
   "file_extension": ".py",
   "mimetype": "text/x-python",
   "name": "python",
   "nbconvert_exporter": "python",
   "pygments_lexer": "ipython3",
   "version": "3.6.4"
  }
 },
 "nbformat": 4,
 "nbformat_minor": 2
}
